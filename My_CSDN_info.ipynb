{
 "cells": [
  {
   "cell_type": "code",
   "execution_count": 1,
   "metadata": {},
   "outputs": [],
   "source": [
    "import requests\n",
    "from lxml import etree\n",
    "\n",
    "headers = {\n",
    "    'authority': 'blog.csdn.net',\n",
    "    'cache-control': 'max-age=0',\n",
    "    'upgrade-insecure-requests': '1',\n",
    "    'user-agent': 'Mozilla/5.0 (Windows NT 10.0; Win64; x64) AppleWebKit/537.36 (KHTML, like Gecko) Chrome/76.0.3809.132 Safari/537.36',\n",
    "    'sec-fetch-mode': 'navigate',\n",
    "    'sec-fetch-user': '?1',\n",
    "    'accept': 'text/html,application/xhtml+xml,application/xml;q=0.9,image/webp,image/apng,*/*;q=0.8,application/signed-exchange;v=b3',\n",
    "    'sec-fetch-site': 'none',\n",
    "    'referer': 'https://me.csdn.net/blog/weixin_43676025',\n",
    "    'accept-encoding': 'gzip, deflate, br',\n",
    "    'accept-language': 'zh-CN,zh;q=0.9,en;q=0.8',\n",
    "    '$cookie': 'uuid_tt_dd=10_18754979660-1596011651821-946587; dc_session_id=10_1596011651821.860347; TY_SESSION_ID=3e07b72c-4f13-40b3-97a7-3dd2ca93f2bf; c_segment=11; dc_sid=dfa0ed8e188c6116210b61283a157d5f; Hm_up_6bcd52f51e9b3dce32bec4a3997715ac=%7B%22islogin%22%3A%7B%22value%22%3A%220%22%2C%22scope%22%3A1%7D%2C%22isonline%22%3A%7B%22value%22%3A%220%22%2C%22scope%22%3A1%7D%2C%22isvip%22%3A%7B%22value%22%3A%220%22%2C%22scope%22%3A1%7D%2C%22uid_%22%3A%7B%22value%22%3A%22weixin_43676025%22%2C%22scope%22%3A1%7D%7D; Hm_ct_6bcd52f51e9b3dce32bec4a3997715ac=6525*1*10_18754979660-1596011651821-946587\\\\u00215744*1*weixin_43676025; announcement=%257B%2522isLogin%2522%253Afalse%252C%2522announcementUrl%2522%253A%2522https%253A%252F%252Flive.csdn.net%252Froom%252Fyzkskaka%252FwgOUuuyi%253Futm_source%253D1546214907%2522%252C%2522announcementCount%2522%253A1%252C%2522announcementExpire%2522%253A258133181%257D; c_adb=1; c_first_ref=www.baidu.com; c-login-auto-interval=1596012221766; SESSION=56aae6fd-dde8-4bb6-9837-a7c2527f2ebf; log_Id_pv=1; log_Id_view=3; c_first_page=https%3A//blog.csdn.net/weixin_42147780/article/details/100862409; Hm_lvt_6bcd52f51e9b3dce32bec4a3997715ac=1596011902,1596012073,1596012382,1596012629; c_ref=https%3A//blog.csdn.net/weixin_43676025; c_page_id=default; dc_tos=qe83ub; c-login-auto=3; Hm_lpvt_6bcd52f51e9b3dce32bec4a3997715ac=1596013428',\n",
    "}\n",
    "\n",
    "res = requests.get('https://blog.csdn.net/weixin_43676025', headers=headers)\n",
    "e_html = etree.HTML(res.text)\n"
   ]
  },
  {
   "cell_type": "code",
   "execution_count": 13,
   "metadata": {},
   "outputs": [],
   "source": [
    "original_article = e_html.xpath(\"//div[@class='data-info d-flex item-tiling'][1]/dl[@class='text-center'][1]/@title\")[0]\n",
    "LIKE = e_html.xpath(\"//div[@class='data-info d-flex item-tiling'][1]/dl[@class='text-center'][3]/@title\")[0]\n",
    "FUNS = e_html.xpath(\"//div[@class='data-info d-flex item-tiling'][1]/dl[@class='text-center'][2]/@title\")[0]\n",
    "reads = e_html.xpath(\"//div[@class='data-info d-flex item-tiling'][1]/dl[@class='text-center'][5]/@title\")[0]\n",
    "comments = e_html.xpath(\"//div[@class='data-info d-flex item-tiling'][1]/dl[@class='text-center'][4]/@title\")[0]\n",
    "collections = e_html.xpath(\"//div[@class='data-info d-flex item-tiling'][2]/dl[@class='text-center'][2]/@title\")[0]\n",
    "week_ranking = e_html.xpath(\"//div[@class='data-info d-flex item-tiling'][2]/dl[@class='text-center'][3]/@title\")[0]\n",
    "all_ranking = e_html.xpath(\"//div[@class='data-info d-flex item-tiling'][2]/dl[@class='text-center'][4]/@title\")[0]\n",
    "user_level = e_html.xpath(\"//div[@class='data-info d-flex item-tiling'][2]/dl[@class='text-center'][5]/dt/a/img[@class='level']/@src\")[0]"
   ]
  },
  {
   "cell_type": "code",
   "execution_count": 8,
   "metadata": {},
   "outputs": [],
   "source": [
    "from pymongo import MongoClient"
   ]
  },
  {
   "cell_type": "code",
   "execution_count": 11,
   "metadata": {},
   "outputs": [],
   "source": [
    "client = MongoClient('mongodb://120.78.234.62:27017/')\n",
    "csdn_db = client.CSDN\n",
    "user_info = csdn_db['user_info']"
   ]
  },
  {
   "cell_type": "code",
   "execution_count": 21,
   "metadata": {},
   "outputs": [],
   "source": [
    "username = '大佬橙'"
   ]
  },
  {
   "cell_type": "code",
   "execution_count": 85,
   "metadata": {},
   "outputs": [],
   "source": [
    "import time\n",
    "user_data_template = {\n",
    "    'username':username,\n",
    "    'user_data':{\n",
    "        'original_article':original_article,\n",
    "        'like':LIKE,\n",
    "        'funs':FUNS,\n",
    "        'reads':reads,\n",
    "        'comments':comments,\n",
    "        'collections':collections,\n",
    "        'week_ranking':week_ranking,\n",
    "        'all_ranking':all_ranking,\n",
    "        'user_level':user_level,\n",
    "    },\n",
    "    'insert_time':time.strftime('%Y-%m-%d %H:%M:%S',time.localtime(da)),\n",
    "    'insert_time_stamp':int(time.time()),\n",
    "}\n",
    "insert_template = user_data_template"
   ]
  },
  {
   "cell_type": "code",
   "execution_count": 84,
   "metadata": {},
   "outputs": [
    {
     "data": {
      "text/plain": [
       "{'username': '大佬橙',\n",
       " 'user_data': {'original_article': '37',\n",
       "  'like': '3',\n",
       "  'funs': '5',\n",
       "  'reads': '3164',\n",
       "  'comments': '5',\n",
       "  'collections': '5',\n",
       "  'week_ranking': '77479',\n",
       "  'all_ranking': '216267',\n",
       "  'user_level': 'https://csdnimg.cn/identity/blog3.png'},\n",
       " 'insert_time': '2020-07-30 14:41:01',\n",
       " 'insert_time_stamp': 1596091261,\n",
       " '_id': ObjectId('5f226b9a40a974f248e71a1a')}"
      ]
     },
     "execution_count": 84,
     "metadata": {},
     "output_type": "execute_result"
    }
   ],
   "source": [
    "insert_template"
   ]
  },
  {
   "cell_type": "code",
   "execution_count": 109,
   "metadata": {},
   "outputs": [],
   "source": [
    "s = user.sort('insert_time_stamp',pymongo.DESCENDING).clone()"
   ]
  },
  {
   "cell_type": "code",
   "execution_count": 118,
   "metadata": {},
   "outputs": [],
   "source": [
    "from hashlib import md5"
   ]
  },
  {
   "cell_type": "code",
   "execution_count": 134,
   "metadata": {},
   "outputs": [],
   "source": [
    "def to_md5(data):\n",
    "    data = str(data).encode('utf-8')\n",
    "    return md5(data).hexdigest()"
   ]
  },
  {
   "cell_type": "code",
   "execution_count": 146,
   "metadata": {},
   "outputs": [
    {
     "name": "stdout",
     "output_type": "stream",
     "text": [
      "信息不变,更新时间\n"
     ]
    }
   ],
   "source": [
    "user = user_info.find({'username':username}).clone()\n",
    "try:\n",
    "    lasted_data = user.sort('insert_time_stamp',pymongo.DESCENDING)[0].get(\"user_data\")\n",
    "\n",
    "    lasted = to_md5(lasted_data)\n",
    "    current = to_md5(insert_template.get('user_data'))\n",
    "\n",
    "    if lasted == current:\n",
    "        print('信息不变,更新时间')\n",
    "        user_info.update_one({'username':username},{'$set':{'insert_time':time.strftime('%Y-%m-%d %H:%M:%S',time.localtime()),\n",
    "                                                        'insert_time_stamp':int(time.time())}})\n",
    "    else:\n",
    "        print('信息改变,新增一条数据')\n",
    "        user_info.insert(insert_template)\n",
    "except:\n",
    "    print('表中无数据,新增一条数据')\n",
    "    user_info.insert(insert_template)"
   ]
  }
 ],
 "metadata": {
  "kernelspec": {
   "display_name": "Python 3",
   "language": "python",
   "name": "python3"
  },
  "language_info": {
   "codemirror_mode": {
    "name": "ipython",
    "version": 3
   },
   "file_extension": ".py",
   "mimetype": "text/x-python",
   "name": "python",
   "nbconvert_exporter": "python",
   "pygments_lexer": "ipython3",
   "version": "3.7.7"
  }
 },
 "nbformat": 4,
 "nbformat_minor": 4
}
