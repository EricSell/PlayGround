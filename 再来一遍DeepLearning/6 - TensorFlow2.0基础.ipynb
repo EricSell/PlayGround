{
 "cells": [
  {
   "cell_type": "markdown",
   "metadata": {},
   "source": [
    "TensorFlow是一个 端到端，开源的框架，支持深度学习，机器学习等等"
   ]
  },
  {
   "attachments": {},
   "cell_type": "markdown",
   "metadata": {},
   "source": [
    "Tensorflow 1.x -- 延迟执行机制(静态图机制)\n",
    "![6-TensorFlow1.0静态图机制.png](./img/6-TensorFlow1.0静态图机制.png)"
   ]
  },
  {
   "attachments": {},
   "cell_type": "markdown",
   "metadata": {},
   "source": [
    "TensorFlow 2.0 -- 动态图机制\n",
    "![6-TensorFlow2.0动态图机制.png](./img/6-TensorFlow2.0动态图机制.png)"
   ]
  },
  {
   "attachments": {},
   "cell_type": "markdown",
   "metadata": {},
   "source": [
    "![6-TensorFlow版本对比.png](./img/6-TensorFlow版本对比.png)"
   ]
  },
  {
   "attachments": {},
   "cell_type": "markdown",
   "metadata": {},
   "source": [
    "![6-TensorFlow2.0运行流程.png](./img/6-TensorFlow2.0运行流程.png)"
   ]
  },
  {
   "attachments": {},
   "cell_type": "markdown",
   "metadata": {},
   "source": [
    "![6-TensorFlow的优点.png](./img/6-TensorFlow的优点.png)"
   ]
  },
  {
   "attachments": {},
   "cell_type": "markdown",
   "metadata": {},
   "source": [
    "![6-高版本运行低版本.png](./img/6-高版本运行低版本.png)"
   ]
  }
 ],
 "metadata": {
  "kernelspec": {
   "display_name": "Python 3",
   "language": "python",
   "name": "python3"
  },
  "language_info": {
   "codemirror_mode": {
    "name": "ipython",
    "version": 3
   },
   "file_extension": ".py",
   "mimetype": "text/x-python",
   "name": "python",
   "nbconvert_exporter": "python",
   "pygments_lexer": "ipython3",
   "version": "3.7.7"
  }
 },
 "nbformat": 4,
 "nbformat_minor": 4
}
