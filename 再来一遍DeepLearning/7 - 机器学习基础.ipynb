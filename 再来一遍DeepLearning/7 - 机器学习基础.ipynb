{
 "cells": [
  {
   "attachments": {},
   "cell_type": "markdown",
   "metadata": {},
   "source": [
    "![7-模型与拟合.png](./img/7-模型与拟合.png)"
   ]
  },
  {
   "cell_type": "markdown",
   "metadata": {},
   "source": [
    "**模型**就是“那条线”， 而找到“那条线”的过程叫做 **拟合**\n",
    "\n",
    "机器学习的主要研究内容就是：**如何从数据中产生模型**"
   ]
  },
  {
   "attachments": {},
   "cell_type": "markdown",
   "metadata": {},
   "source": [
    "![7-基础概念2.png](./img/7-基础概念2.png)"
   ]
  },
  {
   "cell_type": "markdown",
   "metadata": {},
   "source": [
    "### 监督学习（有标记的学习）\n",
    "\n",
    "定义：\n",
    "- 数据集/样本集\n",
    "    - 样本： 每条数据\n",
    "    - 属性/特征： 每条数据的内容信息\n",
    "    - 标记/标签： 每条数据的结果\n",
    "- 模型/假设/学习器\n",
    "- 真实/真相\n",
    "\n",
    "学习的类别 ：\n",
    "\n",
    "- 回归： 预测<font color='red'>连续</font>的值\n",
    "- 分类： 预测<font color='red'>离散</font>的值"
   ]
  },
  {
   "cell_type": "markdown",
   "metadata": {},
   "source": [
    "### 无监督学习（无标记的学习）\n",
    "\n",
    "定义： 在样本<font color='red'>没有标记</font>的情况下，挖掘出<font color='red'>数据</font>内部蕴含的<font color='red'>关系</font>\n",
    "\n",
    "类聚： 把<font color='red'>相似度</font>高的样本聚合一起。<font color='red'>物以类聚，人以群分</font>\n",
    "\n",
    "距离： 描述了特征之间的相似度"
   ]
  },
  {
   "cell_type": "markdown",
   "metadata": {},
   "source": [
    "### 半监督学习\n",
    "\n",
    "定义：\n",
    "- 将<font color='red'>有监督学习</font>和<font color='red'>无监督学习</font>相互<font color='red'>结合</font>\n",
    "- 综合使用<font color='red'>大量没有标记的数据</font>和<font color='red'>少量有标记的数据</font>共同进行学习。"
   ]
  },
  {
   "attachments": {},
   "cell_type": "markdown",
   "metadata": {},
   "source": [
    "![7-发展与应用.png](./img/7-发展与应用.png)"
   ]
  }
 ],
 "metadata": {
  "kernelspec": {
   "display_name": "Python 3",
   "language": "python",
   "name": "python3"
  },
  "language_info": {
   "codemirror_mode": {
    "name": "ipython",
    "version": 3
   },
   "file_extension": ".py",
   "mimetype": "text/x-python",
   "name": "python",
   "nbconvert_exporter": "python",
   "pygments_lexer": "ipython3",
   "version": "3.7.7"
  }
 },
 "nbformat": 4,
 "nbformat_minor": 4
}
